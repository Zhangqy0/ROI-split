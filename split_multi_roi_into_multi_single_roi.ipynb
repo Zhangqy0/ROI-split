{
 "cells": [
  {
   "cell_type": "code",
   "execution_count": 2,
   "id": "225562d9",
   "metadata": {},
   "outputs": [
    {
     "name": "stderr",
     "output_type": "stream",
     "text": [
      "E:\\Tools\\anaconda3\\envs\\monai\\lib\\site-packages\\scipy\\__init__.py:146: UserWarning: A NumPy version >=1.17.3 and <1.25.0 is required for this version of SciPy (detected version 1.26.4\n",
      "  warnings.warn(f\"A NumPy version >={np_minversion} and <{np_maxversion}\"\n"
     ]
    }
   ],
   "source": [
    "import nibabel as nib\n",
    "import numpy as np\n",
    "import os"
   ]
  },
  {
   "cell_type": "code",
   "execution_count": 3,
   "id": "1a31027f",
   "metadata": {},
   "outputs": [],
   "source": [
    "roi_nii_file_path = r'E:\\Projects\\xiaxiaona\\task2\\roi.nii'\n",
    "\n",
    "roi_img = nib.load(roi_nii_file_path)\n",
    "roi_data = roi_img.get_fdata()\n",
    "\n",
    "unique_rois = np.unique(roi_data[roi_data != 0])\n",
    "\n",
    "save_directory = r'E:\\Projects\\xiaxiaona\\task2'\n",
    "\n",
    "if not os.path.exists(save_directory):\n",
    "    os.makedirs(save_directory)"
   ]
  },
  {
   "cell_type": "code",
   "execution_count": 5,
   "id": "52d70de8",
   "metadata": {},
   "outputs": [
    {
     "name": "stdout",
     "output_type": "stream",
     "text": [
      "ROI 3.0 saved as E:\\Projects\\xiaxiaona\\task2\\roi_3.0.nii\n",
      "ROI 5.0 saved as E:\\Projects\\xiaxiaona\\task2\\roi_5.0.nii\n",
      "ROI 7.0 saved as E:\\Projects\\xiaxiaona\\task2\\roi_7.0.nii\n",
      "ROI 9.0 saved as E:\\Projects\\xiaxiaona\\task2\\roi_9.0.nii\n",
      "ROI 11.0 saved as E:\\Projects\\xiaxiaona\\task2\\roi_11.0.nii\n",
      "All individual ROIs have been saved.\n"
     ]
    }
   ],
   "source": [
    "for roi_id in unique_rois:\n",
    "    roi_mask = (roi_data == roi_id).astype(np.uint8)\n",
    "    \n",
    "    roi_img_new = nib.Nifti1Image(roi_mask, affine=roi_img.affine, header=roi_img.header)\n",
    "    \n",
    "    roi_file_path = os.path.join(save_directory, f'roi_{roi_id}.nii')\n",
    "    \n",
    "    nib.save(roi_img_new, roi_file_path)\n",
    "    print(f'ROI {roi_id} saved as {roi_file_path}')\n",
    "\n",
    "print('All individual ROIs have been saved.')"
   ]
  },
  {
   "cell_type": "code",
   "execution_count": null,
   "id": "dcc88ad9",
   "metadata": {},
   "outputs": [],
   "source": []
  }
 ],
 "metadata": {
  "kernelspec": {
   "display_name": "Python 3 (ipykernel)",
   "language": "python",
   "name": "python3"
  },
  "language_info": {
   "codemirror_mode": {
    "name": "ipython",
    "version": 3
   },
   "file_extension": ".py",
   "mimetype": "text/x-python",
   "name": "python",
   "nbconvert_exporter": "python",
   "pygments_lexer": "ipython3",
   "version": "3.9.19"
  }
 },
 "nbformat": 4,
 "nbformat_minor": 5
}
